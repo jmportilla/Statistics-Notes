{
 "cells": [
  {
   "cell_type": "markdown",
   "metadata": {},
   "source": [
    "#### Let's learn about  sampling theory!"
   ]
  },
  {
   "cell_type": "markdown",
   "metadata": {},
   "source": [
    "Sampling Theory is a study of relationships exisiting between a population and the samples drawn from the population. For instance, the population may be the entire population of the United States, while the sample may be 1000 people you polled for a survey.\n",
    "\n",
    "There are a ton of important questions we want to ask pertaining to sampling theory, such as whether the observed difference between two samples are due to chance variation or if they are statistically significant. These are sometimes known as *tests of significance*. We'll talk about them later in another iPython notebook."
   ]
  },
  {
   "cell_type": "markdown",
   "metadata": {},
   "source": [
    "#### Random Samples and Numbers"
   ]
  },
  {
   "cell_type": "markdown",
   "metadata": {},
   "source": [
    "Samples must be chosen so that they are representative of a population. One method of doing this is by selecting using *random sampling*. This methods means that every member of the population has an euqal chance of being selected. There's lots of ways to create a \"random\" sampling method, it can be as simple as picking names from a hat, or using pseudorandom number generators such as a Mersenne Twister (the default PRNG for python).\n",
    "\n",
    "Learn more about it at (python 2): https://docs.python.org/2/library/random.html\n",
    "\n",
    "Learn more about it at (python 3): https://docs.python.org/3/library/random.html"
   ]
  },
  {
   "cell_type": "markdown",
   "metadata": {},
   "source": [
    "#### Sampling with and without Replacement"
   ]
  },
  {
   "cell_type": "markdown",
   "metadata": {},
   "source": [
    "Drawing samples without replacement from a finite source of samples is considered a finite sampling. Drawing samples from a finite source with replacement can be considered infinite. Such as tossing a coin N number of times, while there are only two possibile outcomes, there is an infinite possibility of any series of heads or tails as N goes to infinity."
   ]
  },
  {
   "cell_type": "markdown",
   "metadata": {},
   "source": [
    "#### Sampling Distribution of Means"
   ]
  },
  {
   "cell_type": "markdown",
   "metadata": {},
   "source": [
    "If you draw N samples from a finite population of Np samples where Np>N then the mean and the std are denoted as the following:"
   ]
  },
  {
   "cell_type": "markdown",
   "metadata": {},
   "source": [
    "The mean: $$\\mu_x=\\mu$$"
   ]
  },
  {
   "cell_type": "markdown",
   "metadata": {},
   "source": [
    "The standard deviation: $$\\sigma_x= \\frac{\\sigma}{\\sqrt{N}}\\sqrt{ \\frac{N_p-N}{N_p-N}}$$"
   ]
  },
  {
   "cell_type": "markdown",
   "metadata": {},
   "source": [
    "This means that we can relate our mean and std from out sample to the total sample population."
   ]
  },
  {
   "cell_type": "markdown",
   "metadata": {},
   "source": [
    "#### Sampling Distribution of Proportions"
   ]
  },
  {
   "cell_type": "markdown",
   "metadata": {},
   "source": [
    "If the population is infinite and the probability of succes is denoted as p and probability of failure is q=1-p (just like in a binomial distirbution, like a coin flip). The sampling distribution of proportions then has a mean and standard deviation notes as the following:"
   ]
  },
  {
   "cell_type": "markdown",
   "metadata": {},
   "source": [
    "The mean: $$\\mu_p=p$$"
   ]
  },
  {
   "cell_type": "markdown",
   "metadata": {},
   "source": [
    "The standard deviation: $$\\sigma_p=\\sqrt{\\frac{pq}{N}}=\\sqrt{\\frac{p(1-p)}{N}}$$"
   ]
  },
  {
   "cell_type": "markdown",
   "metadata": {},
   "source": [
    "#### Sampling Distribution of Differences and Sums"
   ]
  },
  {
   "cell_type": "markdown",
   "metadata": {},
   "source": [
    "If you are given two sample populations N1 and N2 both of which are normally distributed, we can obtain the mean and standard deviation of the sampling distribution of diffrences or sums of the statistics. If S1 is a statistics of N1 and S2 a statistic of N2 we can obtain the mean and standard deviation as follows:"
   ]
  },
  {
   "cell_type": "markdown",
   "metadata": {},
   "source": [
    "For the *differences of the statistics* :"
   ]
  },
  {
   "cell_type": "markdown",
   "metadata": {},
   "source": [
    "The mean is: $$\\mu_{S1-S2}=\\mu_{S1}-\\mu_{S2}$$"
   ]
  },
  {
   "cell_type": "markdown",
   "metadata": {},
   "source": [
    "The standard deviation is: $$ \\sigma_{S1-S2}=\\sqrt{{\\sigma^2}_{S1}+{\\sigma^2}_{S2}}$$"
   ]
  },
  {
   "cell_type": "markdown",
   "metadata": {},
   "source": [
    "For the *sum of the statistics* :"
   ]
  },
  {
   "cell_type": "markdown",
   "metadata": {},
   "source": [
    "The mean is: $$\\mu_{S1-S2}=\\mu_{S1}+\\mu_{S2}$$"
   ]
  },
  {
   "cell_type": "markdown",
   "metadata": {},
   "source": [
    "The standard deviation is: $$ \\sigma_{S1-S2}=\\sqrt{{\\sigma^2}_{S1}+{\\sigma^2}_{S2}}$$"
   ]
  },
  {
   "cell_type": "markdown",
   "metadata": {},
   "source": [
    "Notice that the standard deviations are summed for both cases, but the means are not!"
   ]
  },
  {
   "cell_type": "markdown",
   "metadata": {},
   "source": [
    "This is just a quick intro to the topic of sampling theory, check out more here:\n",
    "\n",
    "1.) http://en.wikipedia.org/wiki/Sampling_distribution"
   ]
  }
 ],
 "metadata": {
  "kernelspec": {
   "display_name": "Python 3 (ipykernel)",
   "language": "python",
   "name": "python3"
  },
  "language_info": {
   "codemirror_mode": {
    "name": "ipython",
    "version": 3
   },
   "file_extension": ".py",
   "mimetype": "text/x-python",
   "name": "python",
   "nbconvert_exporter": "python",
   "pygments_lexer": "ipython3",
   "version": "3.12.3"
  }
 },
 "nbformat": 4,
 "nbformat_minor": 4
}
